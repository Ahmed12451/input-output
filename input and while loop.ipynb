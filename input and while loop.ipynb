{
 "cells": [
  {
   "cell_type": "code",
   "execution_count": 3,
   "metadata": {},
   "outputs": [
    {
     "name": "stdout",
     "output_type": "stream",
     "text": [
      "fuckin\n",
      "majid is a fuckin mad man\n"
     ]
    }
   ],
   "source": [
    "s=input(\"\")\n",
    "print(\"majid is a \" + s + \" mad man\")"
   ]
  },
  {
   "cell_type": "code",
   "execution_count": 4,
   "metadata": {},
   "outputs": [
    {
     "data": {
      "text/plain": [
       "True"
      ]
     },
     "execution_count": 4,
     "metadata": {},
     "output_type": "execute_result"
    }
   ],
   "source": [
    "'urooba' in ['ayesha','amjad','rutaba','urooba']"
   ]
  },
  {
   "cell_type": "code",
   "execution_count": 5,
   "metadata": {},
   "outputs": [
    {
     "data": {
      "text/plain": [
       "False"
      ]
     },
     "execution_count": 5,
     "metadata": {},
     "output_type": "execute_result"
    }
   ],
   "source": [
    "'urooba' not in ['ayesha','amjad','rutaba','urooba']"
   ]
  },
  {
   "cell_type": "code",
   "execution_count": 9,
   "metadata": {},
   "outputs": [
    {
     "ename": "IndentationError",
     "evalue": "expected an indented block (<ipython-input-9-16f35dbbac52>, line 3)",
     "output_type": "error",
     "traceback": [
      "\u001b[1;36m  File \u001b[1;32m\"<ipython-input-9-16f35dbbac52>\"\u001b[1;36m, line \u001b[1;32m3\u001b[0m\n\u001b[1;33m    print(myuserinput)\u001b[0m\n\u001b[1;37m        ^\u001b[0m\n\u001b[1;31mIndentationError\u001b[0m\u001b[1;31m:\u001b[0m expected an indented block\n"
     ]
    }
   ],
   "source": [
    "myuserinput=input(\"Who are you\")\n",
    "while not myuserinput in ['rutaba','katrina','sadia']:\n",
    "print(myuserinput)"
   ]
  },
  {
   "cell_type": "code",
   "execution_count": 18,
   "metadata": {},
   "outputs": [
    {
     "name": "stdout",
     "output_type": "stream",
     "text": [
      "Enter a number2\n",
      "4\n"
     ]
    }
   ],
   "source": [
    "no=input(\"Enter a number\")\n",
    "no=int(no)\n",
    "print(no+2)\n",
    "while "
   ]
  },
  {
   "cell_type": "code",
   "execution_count": 28,
   "metadata": {},
   "outputs": [
    {
     "name": "stdout",
     "output_type": "stream",
     "text": [
      "please enter a no4\n",
      "6\n",
      "Do you want to enter a no?[Y/N]Y\n",
      "please enter a no5\n",
      "7\n",
      "Do you want to enter a no?[Y/N]N\n"
     ]
    }
   ],
   "source": [
    "myChoice ='Y'\n",
    "while myChoice =='Y':\n",
    "    myNumber=input(\"please enter a no\")\n",
    "    print(int(myNumber)+2)\n",
    "    myChoice=input(\"Do you want to enter a no?[Y/N]\")"
   ]
  },
  {
   "cell_type": "code",
   "execution_count": 53,
   "metadata": {},
   "outputs": [
    {
     "name": "stdout",
     "output_type": "stream",
     "text": [
      "Do you want to add friends or find[A/F]f\n",
      "Enter your namehania\n"
     ]
    }
   ],
   "source": [
    "friendList=['ahmed']\n",
    "C=input(\"Do you want to add friends or find[A/F]\")\n",
    "D=input(\"Enter your name\")\n",
    "if D in friendList:\n",
    "    print(friendList.append(friendList))\n",
    "else:\n",
    "    (\"happy day\")\n",
    "    \n"
   ]
  },
  {
   "cell_type": "code",
   "execution_count": 55,
   "metadata": {},
   "outputs": [
    {
     "name": "stdout",
     "output_type": "stream",
     "text": [
      "Enter True or FalseChrIsAlive\n"
     ]
    }
   ],
   "source": [
    "ChrIsAlive = bool(input(\"Enter True or False\"))"
   ]
  },
  {
   "cell_type": "code",
   "execution_count": 58,
   "metadata": {},
   "outputs": [
    {
     "name": "stdout",
     "output_type": "stream",
     "text": [
      "Enter 1 for True and 0 for False0\n",
      "Sorry i can't help you\n"
     ]
    }
   ],
   "source": [
    "ChrIsAlive = int(input(\"Enter 1 for True and 0 for False\"))\n",
    "if ChrIsAlive:\n",
    "    print(\"I will help you\")\n",
    "else:\n",
    "    print(\"Sorry i can't help you\")"
   ]
  },
  {
   "cell_type": "code",
   "execution_count": 61,
   "metadata": {},
   "outputs": [
    {
     "data": {
      "text/plain": [
       "True"
      ]
     },
     "execution_count": 61,
     "metadata": {},
     "output_type": "execute_result"
    }
   ],
   "source": [
    "ChrIsAlive =1\n",
    "ChrIsAlive ==True"
   ]
  },
  {
   "cell_type": "code",
   "execution_count": null,
   "metadata": {
    "collapsed": true
   },
   "outputs": [],
   "source": []
  },
  {
   "cell_type": "code",
   "execution_count": null,
   "metadata": {
    "collapsed": true
   },
   "outputs": [],
   "source": []
  }
 ],
 "metadata": {
  "kernelspec": {
   "display_name": "Python 3",
   "language": "python",
   "name": "python3"
  },
  "language_info": {
   "codemirror_mode": {
    "name": "ipython",
    "version": 3
   },
   "file_extension": ".py",
   "mimetype": "text/x-python",
   "name": "python",
   "nbconvert_exporter": "python",
   "pygments_lexer": "ipython3",
   "version": "3.6.1"
  }
 },
 "nbformat": 4,
 "nbformat_minor": 2
}
